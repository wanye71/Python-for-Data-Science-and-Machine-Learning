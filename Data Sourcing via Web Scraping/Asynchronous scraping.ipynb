{
 "cells": [
  {
   "cell_type": "markdown",
   "id": "cae3d7aa-c7e6-4926-b05a-91f51341f69a",
   "metadata": {},
   "source": [
    "# Asynchronous scraping\n"
   ]
  },
  {
   "cell_type": "code",
   "execution_count": 5,
   "id": "89b690a4-945b-41ea-b438-1bb1c84e7c8e",
   "metadata": {},
   "outputs": [],
   "source": [
    "# pip install aiohttp asyncio\n",
    "# !pip install nest-asyncio"
   ]
  },
  {
   "cell_type": "code",
   "execution_count": 6,
   "id": "7359846f-691e-4ec2-a19b-5a3992c99dd2",
   "metadata": {},
   "outputs": [],
   "source": [
    "import aiohttp\n",
    "import asyncio\n",
    "import csv\n",
    "import re\n",
    "\n",
    "from bs4 import BeautifulSoup"
   ]
  },
  {
   "cell_type": "code",
   "execution_count": null,
   "id": "0fdc4e0f-2bb0-43fe-b6ec-6e1d75e6d1fa",
   "metadata": {},
   "outputs": [],
   "source": []
  }
 ],
 "metadata": {
  "kernelspec": {
   "display_name": "Python 3 (ipykernel)",
   "language": "python",
   "name": "python3"
  },
  "language_info": {
   "codemirror_mode": {
    "name": "ipython",
    "version": 3
   },
   "file_extension": ".py",
   "mimetype": "text/x-python",
   "name": "python",
   "nbconvert_exporter": "python",
   "pygments_lexer": "ipython3",
   "version": "3.12.1"
  }
 },
 "nbformat": 4,
 "nbformat_minor": 5
}
