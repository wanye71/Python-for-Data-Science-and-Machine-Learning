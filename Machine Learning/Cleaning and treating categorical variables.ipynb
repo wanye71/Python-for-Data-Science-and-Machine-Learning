{
 "cells": [
  {
   "cell_type": "markdown",
   "id": "0ae54467-cb35-4f0c-8909-00c539128a32",
   "metadata": {},
   "source": [
    "# Cleaning and treating categorical variables"
   ]
  },
  {
   "cell_type": "code",
   "execution_count": 1,
   "id": "54d79cf6-61f0-4045-800c-affd5e2389e0",
   "metadata": {},
   "outputs": [],
   "source": [
    "import numpy as np\n",
    "import pandas as pd\n",
    "from pandas import DataFrame\n",
    "\n",
    "from sklearn.preprocessing import LabelEncoder, OneHotEncoder"
   ]
  },
  {
   "cell_type": "code",
   "execution_count": null,
   "id": "352bbd53-e2d7-4120-a4a7-a23b2fb89cd7",
   "metadata": {},
   "outputs": [],
   "source": [
    "data = {'names':['steve', 'john', 'richard', 'sarah', 'randy', 'micheal', 'julie'],\n",
    "'age':[20, 22, 20, 21, 24, 23, 22],\n",
    "'gender':['Male', 'Male', np.nan, 'Female', np.nan, 'Male', np.nan],\n",
    "'rank':[2, 1, 4, 5, 3, 7, 6]}\n",
    "\n"
   ]
  }
 ],
 "metadata": {
  "kernelspec": {
   "display_name": "Python 3 (ipykernel)",
   "language": "python",
   "name": "python3"
  },
  "language_info": {
   "codemirror_mode": {
    "name": "ipython",
    "version": 3
   },
   "file_extension": ".py",
   "mimetype": "text/x-python",
   "name": "python",
   "nbconvert_exporter": "python",
   "pygments_lexer": "ipython3",
   "version": "3.12.1"
  }
 },
 "nbformat": 4,
 "nbformat_minor": 5
}
