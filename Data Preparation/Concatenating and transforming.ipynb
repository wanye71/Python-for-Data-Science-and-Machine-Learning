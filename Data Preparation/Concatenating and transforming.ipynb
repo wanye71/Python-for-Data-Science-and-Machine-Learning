{
 "cells": [
  {
   "cell_type": "code",
   "execution_count": null,
   "metadata": {},
   "outputs": [],
   "source": [
    "# Ayo, fam! We're gearing up for some serious data exploration, like navigating the vast expanse of our solar system:\n",
    "\n",
    "# First up, we're summoning the almighty numpy library, ready to crunch numbers like a boss.\n",
    "# Just like the gravitational pull of planets, numpy equips us with powerful tools for numerical computations.\n",
    "\n",
    "import numpy as np\n",
    "\n",
    "# Next in line, we're setting our sights on the pandas library, our trusty sidekick in this data adventure.\n",
    "# Like orbiting planets around a star, pandas helps us manipulate and analyze datasets with ease, providing structure and organization to our data universe.\n",
    "\n",
    "import pandas as pd\n",
    "\n",
    "# And last but not least, we're cherry-picking the Series and DataFrame classes from the pandas library.\n",
    "# These classes are like our essential satellites orbiting around a planet, allowing us to organize and structure our data for exploration and analysis.\n",
    "\n",
    "from pandas import Series, DataFrame\n"
   ]
  },
  {
   "cell_type": "markdown",
   "metadata": {},
   "source": [
    "### Concatenating data"
   ]
  },
  {
   "cell_type": "code",
   "execution_count": null,
   "metadata": {},
   "outputs": [],
   "source": [
    "# Ayo, fam! We're about to embark on a cosmic journey through the data universe:\n",
    "\n",
    "# We're creating a DataFrame called 'DF_obj' that represents a matrix of data, akin to the celestial bodies in our solar system.\n",
    "# Each element in the matrix is like a planet orbiting around the sun, with its own unique position and characteristics.\n",
    "\n",
    "DF_obj = DataFrame(np.arange(36).reshape(6, 6))\n",
    "\n",
    "# Now that we've laid out our cosmic matrix, let's take a closer look at the celestial bodies we've mapped.\n",
    "# Get ready to explore the wonders of our data universe!\n",
    "\n",
    "DF_obj\n"
   ]
  },
  {
   "cell_type": "code",
   "execution_count": null,
   "metadata": {},
   "outputs": [],
   "source": [
    "# Ayo, fam! We're back with another cosmic dataset:\n",
    "\n",
    "# We're creating a DataFrame called 'DF_obj_2' that represents a matrix of data, similar to the celestial bodies in our solar system.\n",
    "# Each element in the matrix is like a planet orbiting around the sun, with its own unique position and characteristics.\n",
    "\n",
    "DF_obj_2 = DataFrame(np.arange(15).reshape(5, 3))\n",
    "\n",
    "# Now that we've charted out our new cosmic matrix, let's take a closer look at the celestial bodies we've mapped.\n",
    "# Get ready to explore the wonders of our data universe once again!\n",
    "\n",
    "DF_obj_2\n"
   ]
  },
  {
   "cell_type": "code",
   "execution_count": null,
   "metadata": {},
   "outputs": [],
   "source": [
    "# Ayo, fam! We're about to merge two cosmic datasets into one epic cosmic exploration:\n",
    "\n",
    "# We're using the pd.concat() function to concatenate (merge) two DataFrames, 'DF_obj' and 'DF_obj_2', along the columns (axis=1).\n",
    "# It's like combining two star systems into one, merging their celestial bodies to explore a larger cosmic space.\n",
    "\n",
    "pd.concat([DF_obj, DF_obj_2], axis=1)\n"
   ]
  },
  {
   "cell_type": "code",
   "execution_count": null,
   "metadata": {},
   "outputs": [],
   "source": [
    "# Ayo, fam! We're about to merge two cosmic datasets into one epic cosmic exploration:\n",
    "\n",
    "# We're using the pd.concat() function to concatenate (merge) two DataFrames, 'DF_obj' and 'DF_obj_2', along the rows (axis=0).\n",
    "# It's like combining two star systems into one, merging their celestial bodies to explore a larger cosmic space.\n",
    "\n",
    "pd.concat([DF_obj, DF_obj_2], axis=0)\n"
   ]
  },
  {
   "cell_type": "markdown",
   "metadata": {},
   "source": [
    "### Transforming data"
   ]
  },
  {
   "cell_type": "markdown",
   "metadata": {},
   "source": [
    "#### Dropping data"
   ]
  },
  {
   "cell_type": "code",
   "execution_count": null,
   "metadata": {},
   "outputs": [],
   "source": [
    "# Ayo, fam! We're about to navigate through our cosmic dataset and drop some celestial bodies:\n",
    "\n",
    "# We're using the .drop() method on 'DF_obj' to remove rows (celestial bodies) with indices 0 and 2 along the rows (axis=0).\n",
    "# It's like navigating through our star map and eliminating specific planets to focus on a select group.\n",
    "\n",
    "DF_obj.drop([0, 2], axis=0)\n"
   ]
  },
  {
   "cell_type": "code",
   "execution_count": null,
   "metadata": {},
   "outputs": [],
   "source": [
    "# Ayo, fam! We're about to navigate through our cosmic dataset and drop some celestial bodies:\n",
    "\n",
    "# We're using the .drop() method on 'DF_obj' to remove columns (celestial bodies) with indices 0 and 2 along the columns (axis=1).\n",
    "# It's like navigating through our star map and eliminating specific planets to focus on a select group.\n",
    "\n",
    "DF_obj.drop([0, 2], axis=1)\n"
   ]
  },
  {
   "cell_type": "markdown",
   "metadata": {},
   "source": [
    "#### Adding data"
   ]
  },
  {
   "cell_type": "code",
   "execution_count": null,
   "metadata": {},
   "outputs": [],
   "source": [
    "# Ayo, fam! We're about to add a new celestial body to our cosmic dataset:\n",
    "\n",
    "# We're creating a Series called 'series_obj' that represents a new variable in our cosmic exploration.\n",
    "# Each element in the Series is like a new celestial body orbiting around our cosmic dataset.\n",
    "# We're giving this variable the name \"added_variable\" to distinguish it from other variables.\n",
    "\n",
    "series_obj = Series(np.arange(6))\n",
    "series_obj.name = \"added_variable\"\n",
    "\n",
    "# Get ready to welcome our new celestial body to the cosmic data universe!\n",
    "\n",
    "series_obj\n"
   ]
  },
  {
   "cell_type": "code",
   "execution_count": null,
   "metadata": {},
   "outputs": [],
   "source": [
    "# Ayo, fam! We're about to merge our cosmic dataset with a new celestial body:\n",
    "\n",
    "# We're using the .join() method to merge the DataFrame 'DF_obj' with the Series 'series_obj', adding a new variable to our cosmic exploration.\n",
    "# It's like combining two star systems, merging their celestial bodies to explore a larger cosmic space with new variables.\n",
    "\n",
    "variable_added = DataFrame.join(DF_obj, series_obj)\n",
    "\n",
    "# Get ready to explore the cosmic dataset with our new celestial body added!\n",
    "\n",
    "variable_added\n"
   ]
  },
  {
   "cell_type": "code",
   "execution_count": null,
   "metadata": {},
   "outputs": [],
   "source": [
    "# Ayo, fam! We're about to double up our cosmic dataset for some epic cosmic exploration:\n",
    "\n",
    "# We're using the pd.concat() function to concatenate (merge) the DataFrame 'variable_added' with itself, creating a new DataFrame 'added_datatable'.\n",
    "# By setting ignore_index=False, we preserve the original index of the DataFrame.\n",
    "# It's like duplicating our star map, creating a cosmic dataset with twice as many celestial bodies for exploration.\n",
    "\n",
    "added_datatable = pd.concat([variable_added, variable_added], ignore_index=False)\n",
    "\n",
    "# Get ready to dive deep into our expanded cosmic dataset and explore the wonders of the universe!\n",
    "\n",
    "added_datatable\n"
   ]
  },
  {
   "cell_type": "code",
   "execution_count": null,
   "metadata": {},
   "outputs": [],
   "source": [
    "# Ayo, fam! We're about to double up our cosmic dataset for some epic cosmic exploration:\n",
    "\n",
    "# We're using the pd.concat() function to concatenate (merge) the DataFrame 'variable_added' with itself, creating a new DataFrame 'added_datatable'.\n",
    "# By setting ignore_index=True, we reset the index of the concatenated DataFrame, creating a continuous index from 0 to the total number of rows.\n",
    "# It's like duplicating our star map, creating a cosmic dataset with twice as many celestial bodies for exploration, and renumbering the rows for clarity.\n",
    "\n",
    "added_datatable = pd.concat([variable_added, variable_added], ignore_index=True)\n",
    "\n",
    "# Get ready to dive deep into our expanded cosmic dataset and explore the wonders of the universe!\n",
    "\n",
    "added_datatable\n"
   ]
  },
  {
   "cell_type": "markdown",
   "metadata": {},
   "source": [
    "#### Sorting data"
   ]
  },
  {
   "cell_type": "code",
   "execution_count": null,
   "metadata": {},
   "outputs": [],
   "source": [
    "# Ayo, fam! We're about to sort our cosmic dataset based on a specific celestial body:\n",
    "\n",
    "# We're using the .sort_values() method on 'DF_obj' to sort the DataFrame based on the values in the 5th column (celestial body), in descending order.\n",
    "# It's like arranging our star map based on the characteristics of a specific celestial body, with the most massive ones at the top.\n",
    "\n",
    "DF_sorted = DF_obj.sort_values(by=5, ascending=False)\n",
    "\n",
    "# Get ready to explore our sorted cosmic dataset and discover the celestial bodies with the highest values!\n",
    "\n",
    "DF_sorted\n"
   ]
  },
  {
   "cell_type": "code",
   "execution_count": null,
   "metadata": {},
   "outputs": [],
   "source": []
  }
 ],
 "metadata": {
  "kernelspec": {
   "display_name": "Python 3",
   "language": "python",
   "name": "python3"
  },
  "language_info": {
   "codemirror_mode": {
    "name": "ipython",
    "version": 3
   },
   "file_extension": ".py",
   "mimetype": "text/x-python",
   "name": "python",
   "nbconvert_exporter": "python",
   "pygments_lexer": "ipython3",
   "version": "3.10.13"
  }
 },
 "nbformat": 4,
 "nbformat_minor": 2
}
