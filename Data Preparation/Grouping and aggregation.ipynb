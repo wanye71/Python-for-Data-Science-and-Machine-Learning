{
 "cells": [
  {
   "cell_type": "code",
   "execution_count": null,
   "metadata": {},
   "outputs": [],
   "source": [
    "# Ayo, fam! We're importing the almighty NumPy library, ready to crunch numbers like a boss.\n",
    "import numpy as np\n",
    "\n",
    "# Next up, we're summoning the powerful Pandas library, our trusty sidekick in this data adventure.\n",
    "import pandas as pd\n",
    "\n",
    "# And last but not least, we're cherry-picking the Series and DataFrame classes from the Pandas library.\n",
    "# These classes are like our essential tools for organizing and structuring our data for exploration and analysis.\n",
    "from pandas import Series, DataFrame\n"
   ]
  },
  {
   "cell_type": "markdown",
   "metadata": {},
   "source": [
    "### Grouping data by column index"
   ]
  },
  {
   "cell_type": "code",
   "execution_count": null,
   "metadata": {},
   "outputs": [],
   "source": [
    "# Ayo, fam! We're about to load some data into our cosmic data universe:\n",
    "\n",
    "# We're setting the file path of our dataset to 'address'.\n",
    "# It's like pinpointing the coordinates of a distant galaxy in the vast cosmic expanse.\n",
    "address = '/workspaces/Python-for-Data-Science-and-Machine-Learning/mtcars.csv'\n",
    "\n",
    "# Next, we're using the pd.read_csv() function to read the dataset located at the specified address.\n",
    "# This function loads the dataset into a DataFrame called 'cars', ready for exploration and analysis.\n",
    "# It's like capturing a cosmic image of a distant galaxy and bringing it back to our data observatory for study.\n",
    "cars = pd.read_csv(address)\n",
    "\n",
    "# Now that we've loaded our cosmic dataset, let's give the columns more meaningful names for easier analysis.\n",
    "# We're renaming the columns to provide clearer descriptions of the data they represent.\n",
    "cars.columns = ['car_name', 'mpg', 'cyl', 'disp', 'hp', 'drat', 'wt', 'qsec', 'vs', 'am', 'gear', 'carb']\n",
    "\n",
    "# Get ready to explore the first few rows of our cosmic dataset and uncover the mysteries within!\n",
    "cars.head()\n"
   ]
  },
  {
   "cell_type": "code",
   "execution_count": null,
   "metadata": {},
   "outputs": [],
   "source": [
    "# Ayo, fam! We're about to group our cosmic dataset based on the number of cylinders in each car:\n",
    "\n",
    "# We're using the .groupby() method on the 'cars' DataFrame to group the data based on the 'cyl' column.\n",
    "# This groups the cars into clusters based on the number of cylinders they have, creating cosmic car clusters!\n",
    "cars_groups = cars.groupby(cars['cyl'])\n",
    "\n",
    "# Now that we've grouped our cosmic cars, let's calculate the mean values for each numeric column within each group.\n",
    "# We're using the .mean() method on the grouped DataFrame, specifying numeric_only=True to include only numeric columns in the calculation.\n",
    "# It's like calculating the average properties of each cosmic car cluster, providing insights into their characteristics.\n",
    "cars_groups.mean(numeric_only=True)\n"
   ]
  },
  {
   "cell_type": "code",
   "execution_count": null,
   "metadata": {},
   "outputs": [],
   "source": []
  }
 ],
 "metadata": {
  "kernelspec": {
   "display_name": "Python 3",
   "language": "python",
   "name": "python3"
  },
  "language_info": {
   "codemirror_mode": {
    "name": "ipython",
    "version": 3
   },
   "file_extension": ".py",
   "mimetype": "text/x-python",
   "name": "python",
   "nbconvert_exporter": "python",
   "pygments_lexer": "ipython3",
   "version": "3.10.13"
  }
 },
 "nbformat": 4,
 "nbformat_minor": 2
}
