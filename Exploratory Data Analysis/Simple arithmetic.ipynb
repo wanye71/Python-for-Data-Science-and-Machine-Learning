{
 "cells": [
  {
   "cell_type": "markdown",
   "metadata": {},
   "source": [
    "## Using NumPy to perform arithmetic operations on data"
   ]
  },
  {
   "cell_type": "code",
   "execution_count": null,
   "metadata": {},
   "outputs": [],
   "source": [
    "# Welcome to the world of stock market analysis! Just like \n",
    "# diving into the financial markets, we're equipping ourselves \n",
    "# with the necessary tools to navigate this complex landscape.\n",
    "\n",
    "# Importing NumPy for numerical computing and generating \n",
    "# random numbers, like tracking stock prices and returns.\n",
    "\n",
    "# Our financial toolbox: NumPy\n",
    "import numpy as np\n",
    "\n",
    "# Importing the randn function from numpy.random to generate \n",
    "# random numbers from a standard normal distribution, \n",
    "# simulating stock price fluctuations.\n",
    "\n",
    "# Generating stock price data\n",
    "from numpy.random import randn\n"
   ]
  },
  {
   "cell_type": "code",
   "execution_count": null,
   "metadata": {},
   "outputs": [],
   "source": [
    "# Setting the precision option for NumPy to 2 decimal places,\n",
    "# ensuring that our stock price data is displayed with \n",
    "# appropriate accuracy.\n",
    "np.set_printoptions(precision=2)  # Setting data precision\n"
   ]
  },
  {
   "cell_type": "markdown",
   "metadata": {},
   "source": [
    "## Creating arrays\n",
    "### Creating arrays using a list"
   ]
  },
  {
   "cell_type": "code",
   "execution_count": null,
   "metadata": {},
   "outputs": [],
   "source": [
    "# Creating a NumPy array representing daily stock prices \n",
    "# for a particular stock.\n",
    "a = np.array([1,2,3,4,5,6])  # Daily stock prices\n",
    "a"
   ]
  },
  {
   "cell_type": "code",
   "execution_count": null,
   "metadata": {},
   "outputs": [],
   "source": [
    "# Creating a 2D NumPy array representing stock prices for \n",
    "# multiple stocks over a period of time.\n",
    "b = np.array([[10, 20, 30], [40, 50, 60]])  # Stock prices \n",
    "# for multiple stocks\n",
    "b"
   ]
  },
  {
   "cell_type": "markdown",
   "metadata": {},
   "source": [
    "### Creating arrays via assignment"
   ]
  },
  {
   "cell_type": "code",
   "execution_count": null,
   "metadata": {},
   "outputs": [],
   "source": [
    "# Setting the random seed to ensure reproducibility of random \n",
    "# number generation, similar to the concept of fixing a \n",
    "# starting point for stock price simulations.\n",
    "np.random.seed(25)\n",
    "\n",
    "# Generating random stock price data using normal distribution \n",
    "# with mean 0 and standard deviation 1, then scaling it by 36 to \n",
    "# represent stock prices.\n",
    "c = 36 * np.random.randn(6)  # Random stock price data\n",
    "c"
   ]
  },
  {
   "cell_type": "code",
   "execution_count": null,
   "metadata": {},
   "outputs": [],
   "source": [
    "# Creating an array representing the days of the month, similar \n",
    "# to a calendar month where each number corresponds to a day.\n",
    "d = np.arange(1, 35)  # Array representing days of the month\n",
    "d\n"
   ]
  },
  {
   "cell_type": "markdown",
   "metadata": {},
   "source": [
    "### Multiplying matrices and basic linear algebra"
   ]
  },
  {
   "cell_type": "code",
   "execution_count": null,
   "metadata": {},
   "outputs": [],
   "source": [
    "# Multiplying each element of array 'a' by 10, akin to \n",
    "# increasing the stock prices by a factor of 10.\n",
    "a * 10\n"
   ]
  },
  {
   "cell_type": "code",
   "execution_count": null,
   "metadata": {},
   "outputs": [],
   "source": [
    "# Adding each element of array 'c' to the corresponding \n",
    "# element of array 'a', mirroring the effect of combining \n",
    "# the stock prices from array 'c' with other factors, like \n",
    "# dividends, represented by array 'a'.\n",
    "c + a\n"
   ]
  },
  {
   "cell_type": "code",
   "execution_count": null,
   "metadata": {},
   "outputs": [],
   "source": [
    "# Subtracting each element of array 'a' from the corresponding \n",
    "# element of array 'c', akin to analyzing the difference in \n",
    "# stock prices after a certain event represented by array 'a'.\n",
    "c - a\n"
   ]
  },
  {
   "cell_type": "code",
   "execution_count": null,
   "metadata": {},
   "outputs": [],
   "source": [
    "# Multiplying each element of array 'c' with the corresponding \n",
    "# element of array 'a', analogous to calculating the product of \n",
    "# stock prices and quantities traded.\n",
    "c * a\n"
   ]
  },
  {
   "cell_type": "code",
   "execution_count": null,
   "metadata": {},
   "outputs": [],
   "source": [
    "# Dividing each element of array 'c' by the corresponding \n",
    "# element of array 'a', analogous to calculating the ratio of \n",
    "# stock prices to dividends.\n",
    "c / a\n"
   ]
  },
  {
   "cell_type": "code",
   "execution_count": null,
   "metadata": {},
   "outputs": [],
   "source": []
  }
 ],
 "metadata": {
  "kernelspec": {
   "display_name": "Python 3",
   "language": "python",
   "name": "python3"
  },
  "language_info": {
   "codemirror_mode": {
    "name": "ipython",
    "version": 3
   },
   "file_extension": ".py",
   "mimetype": "text/x-python",
   "name": "python",
   "nbconvert_exporter": "python",
   "pygments_lexer": "ipython3",
   "version": "3.10.13"
  }
 },
 "nbformat": 4,
 "nbformat_minor": 2
}
