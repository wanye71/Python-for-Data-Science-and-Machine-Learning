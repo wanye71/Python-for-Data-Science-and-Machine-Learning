{
 "cells": [
  {
   "cell_type": "markdown",
   "metadata": {},
   "source": [
    "## Generating summary statistics using pandas and scipy"
   ]
  },
  {
   "cell_type": "code",
   "execution_count": 26,
   "metadata": {},
   "outputs": [],
   "source": [
    "# Yo, check it! We're gearing up to analyze some volcanic \n",
    "# data, like diving into the urban jungle with our crew.\n",
    "\n",
    "# Rolling with NumPy, our heavy-duty toolkit for crunching \n",
    "# numbers, like the muscle car revving up for action.\n",
    "import numpy as np\n",
    "\n",
    "# Here comes Pandas, the solid foundation for our data game, \n",
    "# making sure our stats stay on track, just like a street \n",
    "# racer's chassis holding it down.\n",
    "import pandas as pd\n",
    "\n",
    "# We're grabbing Series and DataFrame from the Pandas posse, \n",
    "# those slick data structures keeping our volcanic info \n",
    "# organized, like the street signs guiding the way.\n",
    "from pandas import Series, DataFrame\n",
    "\n",
    "# Scipy's on deck, packing serious statistical firepower \n",
    "# for analyzing volcanic activity, like the high-tech gear \n",
    "# helping us navigate the concrete jungle.\n",
    "import scipy\n",
    "\n",
    "# We're rolling with the stats crew from Scipy, hooking us \n",
    "# up with all the math magic we need to make sense of our \n",
    "# volcanic data, just like the expert advice from the \n",
    "# neighborhood elders.\n",
    "from scipy import stats"
   ]
  },
  {
   "cell_type": "code",
   "execution_count": 27,
   "metadata": {},
   "outputs": [],
   "source": [
    "# Setting the coordinates for the data eruption point\n",
    "address = '../volcanos.csv'\n",
    "\n",
    "# Activating the data eruption point and capturing the volcanic\n",
    "# activity into the 'volcanos' DataFrame\n",
    "volcanos = pd.read_csv(address)"
   ]
  },
  {
   "cell_type": "code",
   "execution_count": 28,
   "metadata": {},
   "outputs": [
    {
     "data": {
      "text/html": [
       "<div>\n",
       "<style scoped>\n",
       "    .dataframe tbody tr th:only-of-type {\n",
       "        vertical-align: middle;\n",
       "    }\n",
       "\n",
       "    .dataframe tbody tr th {\n",
       "        vertical-align: top;\n",
       "    }\n",
       "\n",
       "    .dataframe thead th {\n",
       "        text-align: right;\n",
       "    }\n",
       "</style>\n",
       "<table border=\"1\" class=\"dataframe\">\n",
       "  <thead>\n",
       "    <tr style=\"text-align: right;\">\n",
       "      <th></th>\n",
       "      <th>VolcanoID</th>\n",
       "      <th>V_Name</th>\n",
       "      <th>Country</th>\n",
       "      <th>Region</th>\n",
       "      <th>Subregion</th>\n",
       "      <th>Latitude</th>\n",
       "      <th>Longitude</th>\n",
       "      <th>PEI</th>\n",
       "      <th>H_active</th>\n",
       "      <th>VEI_Holoce</th>\n",
       "      <th>hazard</th>\n",
       "      <th>class</th>\n",
       "      <th>risk</th>\n",
       "    </tr>\n",
       "  </thead>\n",
       "  <tbody>\n",
       "    <tr>\n",
       "      <th>0</th>\n",
       "      <td>210010</td>\n",
       "      <td>West Eifel Volcanic Field</td>\n",
       "      <td>Germany</td>\n",
       "      <td>Mediterranean and W Asia</td>\n",
       "      <td>Western Europe</td>\n",
       "      <td>50.170</td>\n",
       "      <td>6.85</td>\n",
       "      <td>6</td>\n",
       "      <td>0</td>\n",
       "      <td>Unknown VEI</td>\n",
       "      <td>NaN</td>\n",
       "      <td>U-HR</td>\n",
       "      <td>NaN</td>\n",
       "    </tr>\n",
       "    <tr>\n",
       "      <th>1</th>\n",
       "      <td>210020</td>\n",
       "      <td>Cha?ne des Puys</td>\n",
       "      <td>France</td>\n",
       "      <td>Mediterranean and W Asia</td>\n",
       "      <td>Western Europe</td>\n",
       "      <td>45.775</td>\n",
       "      <td>2.97</td>\n",
       "      <td>7</td>\n",
       "      <td>0</td>\n",
       "      <td>Unknown VEI</td>\n",
       "      <td>NaN</td>\n",
       "      <td>U-HR</td>\n",
       "      <td>NaN</td>\n",
       "    </tr>\n",
       "    <tr>\n",
       "      <th>2</th>\n",
       "      <td>210030</td>\n",
       "      <td>Olot Volcanic Field</td>\n",
       "      <td>Spain</td>\n",
       "      <td>Mediterranean and W Asia</td>\n",
       "      <td>Western Europe</td>\n",
       "      <td>42.170</td>\n",
       "      <td>2.53</td>\n",
       "      <td>5</td>\n",
       "      <td>0</td>\n",
       "      <td>No confirmed eruptions</td>\n",
       "      <td>NaN</td>\n",
       "      <td>U-NHHR</td>\n",
       "      <td>NaN</td>\n",
       "    </tr>\n",
       "    <tr>\n",
       "      <th>3</th>\n",
       "      <td>210040</td>\n",
       "      <td>Calatrava Volcanic Field</td>\n",
       "      <td>Spain</td>\n",
       "      <td>Mediterranean and W Asia</td>\n",
       "      <td>Western Europe</td>\n",
       "      <td>38.870</td>\n",
       "      <td>-4.02</td>\n",
       "      <td>6</td>\n",
       "      <td>0</td>\n",
       "      <td>Unknown VEI</td>\n",
       "      <td>NaN</td>\n",
       "      <td>U-HR</td>\n",
       "      <td>NaN</td>\n",
       "    </tr>\n",
       "    <tr>\n",
       "      <th>4</th>\n",
       "      <td>211001</td>\n",
       "      <td>Larderello</td>\n",
       "      <td>Italy</td>\n",
       "      <td>Mediterranean and W Asia</td>\n",
       "      <td>Italy</td>\n",
       "      <td>43.250</td>\n",
       "      <td>10.87</td>\n",
       "      <td>4</td>\n",
       "      <td>0</td>\n",
       "      <td>3</td>\n",
       "      <td>NaN</td>\n",
       "      <td>U-HR</td>\n",
       "      <td>NaN</td>\n",
       "    </tr>\n",
       "  </tbody>\n",
       "</table>\n",
       "</div>"
      ],
      "text/plain": [
       "   VolcanoID                     V_Name  Country                    Region  \\\n",
       "0     210010  West Eifel Volcanic Field  Germany  Mediterranean and W Asia   \n",
       "1     210020            Cha?ne des Puys   France  Mediterranean and W Asia   \n",
       "2     210030        Olot Volcanic Field    Spain  Mediterranean and W Asia   \n",
       "3     210040   Calatrava Volcanic Field    Spain  Mediterranean and W Asia   \n",
       "4     211001                 Larderello    Italy  Mediterranean and W Asia   \n",
       "\n",
       "        Subregion  Latitude  Longitude  PEI  H_active              VEI_Holoce  \\\n",
       "0  Western Europe    50.170       6.85    6         0             Unknown VEI   \n",
       "1  Western Europe    45.775       2.97    7         0             Unknown VEI   \n",
       "2  Western Europe    42.170       2.53    5         0  No confirmed eruptions   \n",
       "3  Western Europe    38.870      -4.02    6         0             Unknown VEI   \n",
       "4           Italy    43.250      10.87    4         0                       3   \n",
       "\n",
       "   hazard   class  risk  \n",
       "0     NaN    U-HR   NaN  \n",
       "1     NaN    U-HR   NaN  \n",
       "2     NaN  U-NHHR   NaN  \n",
       "3     NaN    U-HR   NaN  \n",
       "4     NaN    U-HR   NaN  "
      ]
     },
     "execution_count": 28,
     "metadata": {},
     "output_type": "execute_result"
    }
   ],
   "source": [
    "# Renaming the features to better interpret the volcanic\n",
    "# eruption data and understand the terrain\n",
    "volcanos.columns = ['VolcanoID', 'V_Name', 'Country', 'Region',\n",
    "                    'Subregion', 'Latitude', 'Longitude', 'PEI',\n",
    "                    'H_active', 'VEI_Holoce', 'hazard', 'class',\n",
    "                    'risk']\n",
    "\n",
    "# Observing the modified volcanic landscape to see how the\n",
    "# eruption features have been renamed\n",
    "volcanos.head()\n"
   ]
  },
  {
   "cell_type": "markdown",
   "metadata": {},
   "source": [
    "### Looking at summary statistics that decribe a variable's numeric values"
   ]
  },
  {
   "cell_type": "code",
   "execution_count": 29,
   "metadata": {},
   "outputs": [],
   "source": [
    "# volcanos.sum()\n",
    "\n",
    "# # TypeError: can only concatenate str (not \"int\") to str"
   ]
  },
  {
   "cell_type": "code",
   "execution_count": 30,
   "metadata": {},
   "outputs": [
    {
     "data": {
      "text/plain": [
       "VolcanoID    4.574110e+08\n",
       "Latitude     2.221560e+04\n",
       "Longitude    3.854220e+04\n",
       "PEI          4.786000e+03\n",
       "H_active     5.960000e+02\n",
       "hazard       6.100000e+02\n",
       "risk         5.620000e+02\n",
       "dtype: float64"
      ]
     },
     "execution_count": 30,
     "metadata": {},
     "output_type": "execute_result"
    }
   ],
   "source": [
    "# In the realm of molten fire and earth's command,\n",
    "# We seek the numeric might, firm and grand.\n",
    "# Selecting types of data, numeric and bold,\n",
    "# With volcanic power, our sums unfold.\n",
    "\n",
    "# Selecting columns with numeric data types, excluding\n",
    "# any non-numeric columns, to perform summation.\n",
    "# The `include` parameter specifies the data types to \n",
    "# include in the selection, here set to only include \n",
    "# numeric types using `np.number`.\n",
    "# The `.sum()` method calculates the sum along the rows \n",
    "# (axis 0 by default) of the selected numeric columns.\n",
    "volcanos.select_dtypes(include=[np.number]).sum()"
   ]
  },
  {
   "cell_type": "code",
   "execution_count": 31,
   "metadata": {},
   "outputs": [
    {
     "data": {
      "text/plain": [
       "VolcanoID    4.574110e+08\n",
       "Latitude     2.221560e+04\n",
       "Longitude    3.854220e+04\n",
       "PEI          4.786000e+03\n",
       "H_active     5.960000e+02\n",
       "hazard       6.100000e+02\n",
       "risk         5.620000e+02\n",
       "dtype: float64"
      ]
     },
     "execution_count": 31,
     "metadata": {},
     "output_type": "execute_result"
    }
   ],
   "source": [
    "# Beneath the volcano's fiery gaze,\n",
    "# We seek the numbers that amaze.\n",
    "# Selecting data types of numeric might,\n",
    "# To sum them up, our goal in sight.\n",
    "\n",
    "# Selecting columns with numeric data types, excluding\n",
    "# any non-numeric columns, to perform summation.\n",
    "# Here, 'number' is used as shorthand for numeric data types.\n",
    "# The `.sum()` method calculates the sum along the rows \n",
    "# (axis 0 by default) of the selected numeric columns.\n",
    "volcanos.select_dtypes('number').sum()"
   ]
  },
  {
   "cell_type": "code",
   "execution_count": 32,
   "metadata": {},
   "outputs": [
    {
     "data": {
      "text/plain": [
       "VolcanoID    4.574110e+08\n",
       "Latitude     2.221560e+04\n",
       "Longitude    3.854220e+04\n",
       "PEI          4.786000e+03\n",
       "H_active     5.960000e+02\n",
       "hazard       6.100000e+02\n",
       "risk         5.620000e+02\n",
       "dtype: float64"
      ]
     },
     "execution_count": 32,
     "metadata": {},
     "output_type": "execute_result"
    }
   ],
   "source": [
    "# Amidst the molten lava's glow,\n",
    "# We tally numbers row by row.\n",
    "# Summing up the volcanic might,\n",
    "# With only numeric columns in our sight.\n",
    "\n",
    "# Summing up the numeric values across all columns,\n",
    "# excluding non-numeric ones, like an eruption's fiery flow.\n",
    "# The `numeric_only=True` parameter ensures that only \n",
    "# numeric columns are considered for summation.\n",
    "volcanos.sum(numeric_only=True)"
   ]
  },
  {
   "cell_type": "code",
   "execution_count": 33,
   "metadata": {},
   "outputs": [
    {
     "data": {
      "text/plain": [
       "Latitude     22215.599\n",
       "Longitude    38542.200\n",
       "PEI           4786.000\n",
       "H_active       596.000\n",
       "hazard         610.000\n",
       "risk           562.000\n",
       "dtype: float64"
      ]
     },
     "execution_count": 33,
     "metadata": {},
     "output_type": "execute_result"
    }
   ],
   "source": [
    "# Like shedding a layer of volcanic crust,\n",
    "# We drop the 'VolcanoID' column, leaving behind the lust.\n",
    "# Summing up the remaining volcanic might,\n",
    "# With only numeric columns in our sight.\n",
    "\n",
    "# Dropping the 'VolcanoID' column along the specified axis,\n",
    "# then summing up the numeric values across all remaining columns.\n",
    "\n",
    "# Here, we exclude the 'VolcanoID' column from our dataset \n",
    "# using the drop() method, specifying the axis along which \n",
    "# to drop the column. Then, we sum the numeric values across \n",
    "# all remaining columns using the sum() method with the \n",
    "# numeric_only parameter set to True.\n",
    "volcanos.drop('VolcanoID', axis=1).sum(numeric_only=True)"
   ]
  },
  {
   "cell_type": "code",
   "execution_count": 34,
   "metadata": {},
   "outputs": [],
   "source": [
    "# As the volcanos rumble and roar, \n",
    "# Let's sum up their data to explore.\n",
    "\n",
    "# The `sum` function is used to calculate the sum of values\n",
    "# along the specified axis, considering only numeric columns.\n",
    "# Here, we sum across each row, treating only numeric values,\n",
    "# to get the total sum for each volcano.\n",
    "\n",
    "# Parameters:\n",
    "# - axis: Specifies the axis along which the sum is computed.\n",
    "#   - axis=1: Summation is performed along rows.\n",
    "# - numeric_only: If True, only numeric columns will be summed,\n",
    "#   excluding non-numeric columns like object or categorical.\n",
    "#   Defaults to True.\n",
    "# Returns:\n",
    "# - Series: The sum of values for each volcano.\n",
    "volcanos_sum = volcanos.sum(axis=1, numeric_only=True)"
   ]
  },
  {
   "cell_type": "code",
   "execution_count": 35,
   "metadata": {},
   "outputs": [
    {
     "data": {
      "text/plain": [
       "VolcanoID    290355.000\n",
       "Latitude         14.011\n",
       "Longitude        39.155\n",
       "PEI               2.000\n",
       "H_active          0.000\n",
       "hazard            2.000\n",
       "risk              2.000\n",
       "dtype: float64"
      ]
     },
     "execution_count": 35,
     "metadata": {},
     "output_type": "execute_result"
    }
   ],
   "source": [
    "# Amidst the magma and rock, seeking the median, \n",
    "# our quest on the volcanic terrain is steadily leadin'.\n",
    "\n",
    "# Calling `median()` upon our dataset of fire, \n",
    "# we summon forth the middle value, a measure we admire.\n",
    "\n",
    "# With `numeric_only=True`, we specify our interest, \n",
    "# focusing solely on numerical columns, a directive \n",
    "# we insist.\n",
    "\n",
    "# Parameters:\n",
    "# - numeric_only: A boolean parameter indicating whether to consider only \n",
    "#   numeric data when calculating the median. If set to True, non-numeric \n",
    "#   columns will be excluded from the calculation. Defaults to False.\n",
    "volcanos.median(numeric_only=True)"
   ]
  },
  {
   "cell_type": "code",
   "execution_count": 36,
   "metadata": {},
   "outputs": [
    {
     "data": {
      "text/plain": [
       "Latitude     14.369728\n",
       "Longitude    24.930272\n",
       "PEI           3.095731\n",
       "H_active      0.385511\n",
       "hazard        1.859756\n",
       "risk          1.713415\n",
       "dtype: float64"
      ]
     },
     "execution_count": 36,
     "metadata": {},
     "output_type": "execute_result"
    }
   ],
   "source": [
    "# With volcanoes in mind, dropping the 'VolcanoID' column \n",
    "# to attain the mean is quite divine.\n",
    "\n",
    "# The `drop()` function, a powerful tool, removes the \n",
    "# specified column axis-wise, keeping our data cool. \n",
    "# Setting `axis=1` ensures we target columns, not rows, \n",
    "# leaving behind only the info that glows.\n",
    "\n",
    "# The `mean()` function, post-drop, calculates the average \n",
    "# of the remaining data, a move that's not a flop. By \n",
    "# specifying `numeric_only=True`, we ensure that only \n",
    "# numeric columns are included in our review, allowing us \n",
    "# to analyze and construe.\n",
    "volcanos.drop('VolcanoID', axis=1).mean(numeric_only=True)"
   ]
  },
  {
   "cell_type": "code",
   "execution_count": 37,
   "metadata": {},
   "outputs": [
    {
     "data": {
      "text/plain": [
       "Latitude      88.27\n",
       "Longitude    179.58\n",
       "PEI            7.00\n",
       "H_active       1.00\n",
       "hazard         3.00\n",
       "risk           3.00\n",
       "dtype: float64"
      ]
     },
     "execution_count": 37,
     "metadata": {},
     "output_type": "execute_result"
    }
   ],
   "source": [
    "# In the land of fire and ash, where volcanoes reign supreme,\n",
    "# We drop the ID of molten rocks, a dream within a dream.\n",
    "# Seeking the mightiest value, the highest peak we chase,\n",
    "# Numeric only, to exclude the rest, in this volcanic race.\n",
    "\n",
    "# Parameters:\n",
    "#   - axis: Specifies the axis along which to drop the column. \n",
    "#           0 for rows and 1 for columns.\n",
    "#   - numeric_only: If True, only include numeric data in the calculation \n",
    "#                    of the maximum value. If False, include all data types.\n",
    "# The max() function returns the maximum value along the specified axis, \n",
    "# excluding non-numeric columns if numeric_only is set to True.\n",
    "volcanos.drop('VolcanoID', axis=1).max(numeric_only=True)"
   ]
  },
  {
   "cell_type": "markdown",
   "metadata": {},
   "source": [
    "### Looking at summary statistics that describe variable distribution"
   ]
  },
  {
   "cell_type": "code",
   "execution_count": 38,
   "metadata": {},
   "outputs": [
    {
     "data": {
      "text/plain": [
       "Latitude      31.773402\n",
       "Longitude    112.847466\n",
       "PEI            1.700149\n",
       "H_active       0.486873\n",
       "hazard         0.811893\n",
       "risk           0.764385\n",
       "dtype: float64"
      ]
     },
     "execution_count": 38,
     "metadata": {},
     "output_type": "execute_result"
    }
   ],
   "source": [
    "# In the land of fire and ash, where volcanoes cast their shadow,\n",
    "# We drop the mighty ID, from the depths, we let it go.\n",
    "# Standard deviation we seek, a measure of dispersion's might,\n",
    "# Numeric only, to exclude all but the numeric, shining bright.\n",
    "\n",
    "# Parameters:\n",
    "#   - axis: Specifies the axis along which to drop the column. \n",
    "#           0 for rows and 1 for columns.\n",
    "#   - numeric_only: If True, only include numeric data in the calculation \n",
    "#                    of the standard deviation. If False, include all data types.\n",
    "# The std() function calculates the standard deviation of the data along the specified axis.\n",
    "# Standard deviation measures the dispersion of values in a dataset from the mean. \n",
    "# It is calculated as the square root of the variance.\n",
    "volcanos.drop('VolcanoID', axis=1).std(numeric_only=True)"
   ]
  },
  {
   "cell_type": "code",
   "execution_count": 39,
   "metadata": {},
   "outputs": [
    {
     "data": {
      "text/plain": [
       "Latitude      1009.549047\n",
       "Longitude    12734.550624\n",
       "PEI              2.890506\n",
       "H_active         0.237046\n",
       "hazard           0.659171\n",
       "risk             0.584284\n",
       "dtype: float64"
      ]
     },
     "execution_count": 39,
     "metadata": {},
     "output_type": "execute_result"
    }
   ],
   "source": [
    "# In a land of molten rock, where volcanoes reign supreme,\n",
    "# We drop the specified column, like a boulder in a stream.\n",
    "# Variance we seek, a measure of spread and range,\n",
    "# Numeric only, to exclude non-numeric, it's no longer strange.\n",
    "\n",
    "# Parameters:\n",
    "#   - axis: Specifies the axis along which to drop the column. \n",
    "#           0 for rows and 1 for columns.\n",
    "#   - numeric_only: If True, only include numeric data in the calculation \n",
    "#                    of the variance. If False, include all data types.\n",
    "# The var() function calculates the variance of the data along the specified axis.\n",
    "# Variance is a measure of how much the values in a dataset vary from the mean. \n",
    "# It is calculated as the average of the squared differences from the mean.\n",
    "volcanos.drop('VolcanoID', axis=1).var(numeric_only=True)"
   ]
  },
  {
   "cell_type": "code",
   "execution_count": 40,
   "metadata": {},
   "outputs": [
    {
     "data": {
      "text/plain": [
       "H_active\n",
       "0    950\n",
       "1    596\n",
       "Name: count, dtype: int64"
      ]
     },
     "execution_count": 40,
     "metadata": {},
     "output_type": "execute_result"
    }
   ],
   "source": [
    "# A volcano awakens, its fury held tight,\n",
    "# We capture its rumble, with all of our might.\n",
    "\n",
    "# Assigning the 'H_active' column to 'h_active',\n",
    "# Like a seismic recorder, our data we'll derive.\n",
    "h_active = volcanos.H_active\n",
    "\n",
    "# Counting the eruptions, their frequency we track,\n",
    "# To understand their patterns, and how they stack.\n",
    "\n",
    "# Using the value_counts() function, it's key,\n",
    "# As it tallies the eruptions, for all to see.\n",
    "# This function computes the frequency of unique values in a Series.\n",
    "h_active.value_counts()"
   ]
  },
  {
   "cell_type": "code",
   "execution_count": 41,
   "metadata": {},
   "outputs": [
    {
     "data": {
      "text/html": [
       "<div>\n",
       "<style scoped>\n",
       "    .dataframe tbody tr th:only-of-type {\n",
       "        vertical-align: middle;\n",
       "    }\n",
       "\n",
       "    .dataframe tbody tr th {\n",
       "        vertical-align: top;\n",
       "    }\n",
       "\n",
       "    .dataframe thead th {\n",
       "        text-align: right;\n",
       "    }\n",
       "</style>\n",
       "<table border=\"1\" class=\"dataframe\">\n",
       "  <thead>\n",
       "    <tr style=\"text-align: right;\">\n",
       "      <th></th>\n",
       "      <th>VolcanoID</th>\n",
       "      <th>Latitude</th>\n",
       "      <th>Longitude</th>\n",
       "      <th>PEI</th>\n",
       "      <th>H_active</th>\n",
       "      <th>hazard</th>\n",
       "      <th>risk</th>\n",
       "    </tr>\n",
       "  </thead>\n",
       "  <tbody>\n",
       "    <tr>\n",
       "      <th>count</th>\n",
       "      <td>1546.000000</td>\n",
       "      <td>1546.000000</td>\n",
       "      <td>1546.000000</td>\n",
       "      <td>1546.000000</td>\n",
       "      <td>1546.000000</td>\n",
       "      <td>328.000000</td>\n",
       "      <td>328.000000</td>\n",
       "    </tr>\n",
       "    <tr>\n",
       "      <th>mean</th>\n",
       "      <td>295867.385511</td>\n",
       "      <td>14.369728</td>\n",
       "      <td>24.930272</td>\n",
       "      <td>3.095731</td>\n",
       "      <td>0.385511</td>\n",
       "      <td>1.859756</td>\n",
       "      <td>1.713415</td>\n",
       "    </tr>\n",
       "    <tr>\n",
       "      <th>std</th>\n",
       "      <td>49124.026936</td>\n",
       "      <td>31.773402</td>\n",
       "      <td>112.847466</td>\n",
       "      <td>1.700149</td>\n",
       "      <td>0.486873</td>\n",
       "      <td>0.811893</td>\n",
       "      <td>0.764385</td>\n",
       "    </tr>\n",
       "    <tr>\n",
       "      <th>min</th>\n",
       "      <td>210010.000000</td>\n",
       "      <td>-78.500000</td>\n",
       "      <td>-179.970000</td>\n",
       "      <td>1.000000</td>\n",
       "      <td>0.000000</td>\n",
       "      <td>1.000000</td>\n",
       "      <td>1.000000</td>\n",
       "    </tr>\n",
       "    <tr>\n",
       "      <th>25%</th>\n",
       "      <td>261055.000000</td>\n",
       "      <td>-6.770000</td>\n",
       "      <td>-77.614500</td>\n",
       "      <td>2.000000</td>\n",
       "      <td>0.000000</td>\n",
       "      <td>1.000000</td>\n",
       "      <td>1.000000</td>\n",
       "    </tr>\n",
       "    <tr>\n",
       "      <th>50%</th>\n",
       "      <td>290355.000000</td>\n",
       "      <td>14.011000</td>\n",
       "      <td>39.155000</td>\n",
       "      <td>2.000000</td>\n",
       "      <td>0.000000</td>\n",
       "      <td>2.000000</td>\n",
       "      <td>2.000000</td>\n",
       "    </tr>\n",
       "    <tr>\n",
       "      <th>75%</th>\n",
       "      <td>342087.500000</td>\n",
       "      <td>41.935500</td>\n",
       "      <td>138.532750</td>\n",
       "      <td>4.000000</td>\n",
       "      <td>1.000000</td>\n",
       "      <td>3.000000</td>\n",
       "      <td>2.000000</td>\n",
       "    </tr>\n",
       "    <tr>\n",
       "      <th>max</th>\n",
       "      <td>390140.000000</td>\n",
       "      <td>88.270000</td>\n",
       "      <td>179.580000</td>\n",
       "      <td>7.000000</td>\n",
       "      <td>1.000000</td>\n",
       "      <td>3.000000</td>\n",
       "      <td>3.000000</td>\n",
       "    </tr>\n",
       "  </tbody>\n",
       "</table>\n",
       "</div>"
      ],
      "text/plain": [
       "           VolcanoID     Latitude    Longitude          PEI     H_active  \\\n",
       "count    1546.000000  1546.000000  1546.000000  1546.000000  1546.000000   \n",
       "mean   295867.385511    14.369728    24.930272     3.095731     0.385511   \n",
       "std     49124.026936    31.773402   112.847466     1.700149     0.486873   \n",
       "min    210010.000000   -78.500000  -179.970000     1.000000     0.000000   \n",
       "25%    261055.000000    -6.770000   -77.614500     2.000000     0.000000   \n",
       "50%    290355.000000    14.011000    39.155000     2.000000     0.000000   \n",
       "75%    342087.500000    41.935500   138.532750     4.000000     1.000000   \n",
       "max    390140.000000    88.270000   179.580000     7.000000     1.000000   \n",
       "\n",
       "           hazard        risk  \n",
       "count  328.000000  328.000000  \n",
       "mean     1.859756    1.713415  \n",
       "std      0.811893    0.764385  \n",
       "min      1.000000    1.000000  \n",
       "25%      1.000000    1.000000  \n",
       "50%      2.000000    2.000000  \n",
       "75%      3.000000    2.000000  \n",
       "max      3.000000    3.000000  "
      ]
     },
     "execution_count": 41,
     "metadata": {},
     "output_type": "execute_result"
    }
   ],
   "source": [
    "# In the realm of fire, where volcanoes dwell,\n",
    "# Let's explore their secrets, tales they tell.\n",
    "\n",
    "# With describe() in hand, we step into the glow,\n",
    "# Unveiling the volcano's story, row by row.\n",
    "\n",
    "# This function whispers of eruptions past,\n",
    "# Sketching the landscape of our fiery blast.\n",
    "volcanos.describe()"
   ]
  }
 ],
 "metadata": {
  "kernelspec": {
   "display_name": "Python 3 (ipykernel)",
   "language": "python",
   "name": "python3"
  },
  "language_info": {
   "codemirror_mode": {
    "name": "ipython",
    "version": 3
   },
   "file_extension": ".py",
   "mimetype": "text/x-python",
   "name": "python",
   "nbconvert_exporter": "python",
   "pygments_lexer": "ipython3",
   "version": "3.12.1"
  }
 },
 "nbformat": 4,
 "nbformat_minor": 4
}
