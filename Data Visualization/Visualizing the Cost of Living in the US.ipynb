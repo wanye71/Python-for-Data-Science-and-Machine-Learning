{
 "cells": [
  {
   "cell_type": "code",
   "execution_count": 2,
   "id": "bd372c98-b8c8-4bd4-8be3-ee2b0d92ef41",
   "metadata": {},
   "outputs": [],
   "source": [
    "# In the world of arrays, where calculations reside, 'numpy' is king, its\n",
    "# power worldwide. With 'np' as its alias, operations unfold, linear\n",
    "# algebra beckons, a story untold.\n",
    "import numpy as np  # linear algebra\n",
    "\n",
    "# In the realm of data frames, where tables prevail, 'pandas' takes its\n",
    "# stand, its functionality hails. With 'pd' it's summoned, its power\n",
    "# unfurled, data manipulation, in a world so twirled.\n",
    "import pandas as pd\n",
    "\n",
    "# In the land of data frames, where tables reign, 'pandas' stands tall,\n",
    "# its powers unchained. Summoned with 'pd', its prowess known, handling\n",
    "# data with ease, like seeds it's sown.\n",
    "import pandas as pd\n",
    "\n",
    "# On the canvas of visualization, where stories are told, 'matplotlib'\n",
    "# wields the brush, its colors bold. With 'plt' it's called, a plot\n",
    "# takes flight, a visual tale, in the day or the night.\n",
    "import matplotlib.pyplot as plt\n",
    "\n",
    "# In the realm of aesthetics, where beauty resides, 'seaborn' adds the\n",
    "# flair, with elegance it abides. Summoned with 'sns', its styles\n",
    "# unleashed, visualizations shine, like treasures released.\n",
    "import seaborn as sns\n"
   ]
  },
  {
   "cell_type": "code",
   "execution_count": null,
   "id": "b80a8f98-b0d7-42a7-8e9a-be7963d7bfba",
   "metadata": {},
   "outputs": [],
   "source": [
    "df = pd.read_csv('/kaggle/input/us-cost-of-living-dataset-3171-counties/cost_of_living_us.csv')\n",
    "df"
   ]
  },
  {
   "cell_type": "code",
   "execution_count": null,
   "id": "206a31fb-cb44-4f73-95c6-782b8578bd65",
   "metadata": {},
   "outputs": [],
   "source": []
  }
 ],
 "metadata": {
  "kernelspec": {
   "display_name": "Python 3 (ipykernel)",
   "language": "python",
   "name": "python3"
  },
  "language_info": {
   "codemirror_mode": {
    "name": "ipython",
    "version": 3
   },
   "file_extension": ".py",
   "mimetype": "text/x-python",
   "name": "python",
   "nbconvert_exporter": "python",
   "pygments_lexer": "ipython3",
   "version": "3.12.1"
  }
 },
 "nbformat": 4,
 "nbformat_minor": 5
}
